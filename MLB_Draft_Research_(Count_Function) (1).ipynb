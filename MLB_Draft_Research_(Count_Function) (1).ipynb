{
  "nbformat": 4,
  "nbformat_minor": 0,
  "metadata": {
    "colab": {
      "provenance": [],
      "collapsed_sections": []
    },
    "kernelspec": {
      "name": "python3",
      "display_name": "Python 3"
    },
    "language_info": {
      "name": "python"
    }
  },
  "cells": [
    {
      "cell_type": "markdown",
      "source": [
        "#Import Libraries\n",
        "\n"
      ],
      "metadata": {
        "id": "H05wn7Zu0149"
      }
    },
    {
      "cell_type": "code",
      "source": [
        "import pandas as pd\n",
        "import numpy as np"
      ],
      "metadata": {
        "id": "e1Nrxzjy_tSZ"
      },
      "execution_count": 1,
      "outputs": []
    },
    {
      "cell_type": "code",
      "source": [
        "from google.colab import drive\n",
        "drive.mount('/content/drive')"
      ],
      "metadata": {
        "id": "3w_wn4PnW3F5"
      },
      "execution_count": null,
      "outputs": []
    },
    {
      "cell_type": "markdown",
      "source": [
        "#Read Excel File"
      ],
      "metadata": {
        "id": "JvFuxhib8VLQ"
      }
    },
    {
      "cell_type": "code",
      "source": [
        "data = pd.read_excel(\"/content/drive/MyDrive/MLB Research Project Part 2(AutoRecovered) (version 1).xlsx\", sheet_name = 'TB')"
      ],
      "metadata": {
        "id": "wXVz7i_VZdA4"
      },
      "execution_count": 3,
      "outputs": []
    },
    {
      "cell_type": "code",
      "source": [
        "#Show sample of excel file\n",
        "data.head(5)"
      ],
      "metadata": {
        "id": "Q1RKlizfZfjy"
      },
      "execution_count": null,
      "outputs": []
    },
    {
      "cell_type": "code",
      "source": [
        "#Show number of records in file\n",
        "len(data)"
      ],
      "metadata": {
        "id": "h8nq7X4bu7Cu"
      },
      "execution_count": null,
      "outputs": []
    },
    {
      "cell_type": "code",
      "source": [
        "#Retrieve each GMs name\n",
        "data['GM'].unique()"
      ],
      "metadata": {
        "id": "vf5q-mjUZiml"
      },
      "execution_count": null,
      "outputs": []
    },
    {
      "cell_type": "code",
      "source": [
        "#Function used for counting items in file\n",
        "def MLB_Count(df, condition):\n",
        "  result = {}\n",
        "  keys = df[condition].unique()\n",
        "  for key in keys:\n",
        "    value = len(df[df[condition]== key])\n",
        "    result[key] = value\n",
        "  return result"
      ],
      "metadata": {
        "id": "-QrwdCoCZoFZ"
      },
      "execution_count": 8,
      "outputs": []
    },
    {
      "cell_type": "code",
      "source": [
        "#Retrieve number of players drafted at each position \n",
        "a =MLB_Count(data, 'Pos')\n",
        "a"
      ],
      "metadata": {
        "id": "qG5dp8PpbXXx"
      },
      "execution_count": null,
      "outputs": []
    },
    {
      "cell_type": "code",
      "source": [
        "#Retrieve number of players who have made it to MLB (by position)\n",
        "df = data[data['MLB'] == 'YES']\n",
        "MLB_Count(df, 'Pos')"
      ],
      "metadata": {
        "id": "lnOqsv5caXoF"
      },
      "execution_count": null,
      "outputs": []
    },
    {
      "cell_type": "code",
      "source": [
        "#Retrieve number of players who have made it to MLB but were drafted between rounds 1 and 10 (by position)\n",
        "df = data[data['MLB'] == 'YES'][data['Rnd'] <= 10][data['Rnd'] >= 1]\n",
        "MLB_Count(df, 'Pos')"
      ],
      "metadata": {
        "id": "rjNHMCr-XL1v"
      },
      "execution_count": null,
      "outputs": []
    },
    {
      "cell_type": "code",
      "source": [
        "#Retrieve total number of players were drafted between rounds 1 and 10 (by position)\n",
        "df = data[data['Rnd'] <= 10][data['Rnd'] >= 1]\n",
        "MLB_Count(df, 'Pos')"
      ],
      "metadata": {
        "id": "1XcB-1d_XkP7"
      },
      "execution_count": null,
      "outputs": []
    },
    {
      "cell_type": "code",
      "source": [
        "#Retrieve number of players who have made it to MLB, drafted between rounds 1 and 10, and posted an average WAR of at least 2 (by position)\n",
        "df = data[data['MLB'] == 'YES'][data['Rnd'] <= 10][data['Rnd'] >= 1][data['WAR'] >= 2]\n",
        "MLB_Count(df, 'Pos')"
      ],
      "metadata": {
        "id": "tn2eLhUzYKNP"
      },
      "execution_count": null,
      "outputs": []
    },
    {
      "cell_type": "code",
      "source": [
        "#Retrieve number of players who have made it to MLB but were drafted between rounds 11 and 30 (by position)\n",
        "df = data[data['MLB'] == 'YES'][data['Rnd'] <= 30][data['Rnd'] >= 11]\n",
        "MLB_Count(df, 'Pos')"
      ],
      "metadata": {
        "id": "nknUacaXYTum"
      },
      "execution_count": null,
      "outputs": []
    },
    {
      "cell_type": "code",
      "source": [
        "#Retrieve total number of players were drafted between rounds 11 and 30 (by position)\n",
        "df = data[data['Rnd'] <= 30][data['Rnd'] >= 11]\n",
        "MLB_Count(df, 'Pos')"
      ],
      "metadata": {
        "id": "NiYVXcG0YY1k"
      },
      "execution_count": null,
      "outputs": []
    },
    {
      "cell_type": "code",
      "source": [
        "#Retrieve number of players who have made it to MLB, drafted between rounds 11 and 30, and posted an average WAR of at least 2 (by position)\n",
        "df = data[data['MLB'] == 'YES'][data['Rnd'] <= 30][data['Rnd'] >= 11][data['WAR'] >= 2]\n",
        "MLB_Count(df, 'Pos')"
      ],
      "metadata": {
        "id": "FpP7gDfaYbaA"
      },
      "execution_count": null,
      "outputs": []
    },
    {
      "cell_type": "code",
      "source": [
        "#Retrieve number of players who have made it to MLB but were drafted between rounds 31 and 100 (by position)\n",
        "df = data[data['MLB'] == 'YES'][data['Rnd'] <= 100][data['Rnd'] >= 31] \n",
        "MLB_Count(df, 'Pos')"
      ],
      "metadata": {
        "id": "v_HgHeRKYhzJ"
      },
      "execution_count": null,
      "outputs": []
    },
    {
      "cell_type": "code",
      "source": [
        "#Retrieve total number of players were drafted between rounds 31 and 100 (by position)\n",
        "df = data[data['Rnd'] <= 100][data['Rnd'] >= 31]\n",
        "MLB_Count(df, 'Pos')"
      ],
      "metadata": {
        "id": "5qRcISk7YmKx"
      },
      "execution_count": null,
      "outputs": []
    },
    {
      "cell_type": "code",
      "source": [
        "#Retrieve number of players who have made it to MLB, drafted between rounds 31 and 100, and posted an average WAR of at least 2 (by position)\n",
        "df = data[data['MLB'] == 'YES'][data['Rnd'] <= 100][data['Rnd'] >= 31][data['WAR'] >= 2]\n",
        "MLB_Count(df, 'Pos')"
      ],
      "metadata": {
        "id": "mYJp9JVmYpLo"
      },
      "execution_count": null,
      "outputs": []
    },
    {
      "cell_type": "code",
      "source": [
        "#Return the total WAR for a specific position\n",
        "data[data['Pos'] == 'OF']['WAR'].sum()"
      ],
      "metadata": {
        "id": "itaqR-BJY7td"
      },
      "execution_count": null,
      "outputs": []
    },
    {
      "cell_type": "code",
      "source": [
        "#Retrieve the number of players who have posted an average WAR of at least 5 (by position)\n",
        "df = data[data['WAR'] >=5]\n",
        "MLB_Count(df, 'Pos')"
      ],
      "metadata": {
        "id": "KGvhtWeOZFpA"
      },
      "execution_count": null,
      "outputs": []
    },
    {
      "cell_type": "code",
      "source": [
        "#Retrieve the number of players who have posted an average WAR of at least 2 (by position)\n",
        "df = data[data['WAR'] >=2]\n",
        "MLB_Count(df, 'Pos')"
      ],
      "metadata": {
        "id": "TQ3uK7N8ZceT"
      },
      "execution_count": null,
      "outputs": []
    },
    {
      "cell_type": "code",
      "source": [
        "#Retrieve the number of players who have posted an average WAR of below 2 (by position)\n",
        "df = data[data['WAR'] <2]\n",
        "MLB_Count(df, 'Pos')"
      ],
      "metadata": {
        "id": "71MWbG2xZfki"
      },
      "execution_count": null,
      "outputs": []
    },
    {
      "cell_type": "code",
      "source": [
        "#Return the list of schools (in descending order) by the total number of players drafted by a specific position (4Yr Universities)\n",
        "data[data['Type'] == '4Yr'][data['Pos'] == 'OF']['School'].value_counts()"
      ],
      "metadata": {
        "id": "Od-f8JLxZlVp"
      },
      "execution_count": null,
      "outputs": []
    },
    {
      "cell_type": "code",
      "source": [
        "#Return the list of schools (in descending order) by the total number of players who have made it to MLB by position (4Yr Universities)\n",
        "data[data['Type'] == '4Yr'][data['MLB'] == 'YES'][data['Pos'] == 'OF']['School'].value_counts()"
      ],
      "metadata": {
        "id": "Gc7lptLOaTTn"
      },
      "execution_count": null,
      "outputs": []
    },
    {
      "cell_type": "code",
      "source": [
        "#Return the list of schools (in descending order) by the total number of players drafted by position (Junior Colleges)\n",
        "data[data['Type'] == 'JC'][data['Pos'] == 'OF']['School'].value_counts()"
      ],
      "metadata": {
        "id": "PM2RcQ0gaZPw"
      },
      "execution_count": null,
      "outputs": []
    },
    {
      "cell_type": "code",
      "source": [
        "#Return the list of schools (in descending order) by the total number of players who have made it to MLB by position (Junior Colleges)\n",
        "data[data['Type'] == 'JC'][data['MLB'] == 'YES'][data['Pos'] == 'OF']['School'].value_counts()"
      ],
      "metadata": {
        "id": "VOaESsc4aZrq"
      },
      "execution_count": null,
      "outputs": []
    },
    {
      "cell_type": "code",
      "source": [
        "#Return the list of states (in descending order) by the total number of players drafted by position (High School)\n",
        "data[data['Type'] == 'HS'][data['Pos'] == 'OF']['State'].value_counts()"
      ],
      "metadata": {
        "id": "YZQN2Gj8abWp"
      },
      "execution_count": null,
      "outputs": []
    },
    {
      "cell_type": "code",
      "source": [
        "#Return the list of states (in descending order) by the total number of players who have made it to MLB by position (High School)\n",
        "data[data['Type'] == 'HS'][data['Pos'] == 'OF'][data['MLB'] == 'YES']['State'].value_counts()"
      ],
      "metadata": {
        "id": "T2LmaKJoac62"
      },
      "execution_count": null,
      "outputs": []
    },
    {
      "cell_type": "code",
      "source": [
        "#Retrieve the number of drafted players (by position) within a specific round\n",
        "df = data[data['Rnd'] == 1]\n",
        "b = MLB_Count(df,'Pos')\n",
        "b"
      ],
      "metadata": {
        "id": "irF7fUV6sNdl"
      },
      "execution_count": null,
      "outputs": []
    },
    {
      "cell_type": "code",
      "source": [
        "#Function that groups all offensive positions into a hitter group and a pitcher group (count of all players drafted within a specific round)\n",
        "def two_item_dict(dictionary):\n",
        "  sort_dict = sorted(dictionary.items(), key=lambda item: item[1], reverse = True)\n",
        "  out_dict = {sort_dict[0][0]: sort_dict[0][1]}\n",
        "  sum = 0\n",
        "  for item in sort_dict[1:]:\n",
        "    sum += item[1]\n",
        "  out_dict['H'] = sum\n",
        "  return out_dict"
      ],
      "metadata": {
        "id": "Tq89uwjIbfPW"
      },
      "execution_count": 27,
      "outputs": []
    },
    {
      "cell_type": "code",
      "source": [
        "#Return a set based on the count described above\n",
        "two_item_dict(b)"
      ],
      "metadata": {
        "id": "IuYjtEpFcLQE"
      },
      "execution_count": null,
      "outputs": []
    }
  ]
}