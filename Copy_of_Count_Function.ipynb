{
  "nbformat": 4,
  "nbformat_minor": 0,
  "metadata": {
    "colab": {
      "provenance": [],
      "collapsed_sections": []
    },
    "kernelspec": {
      "name": "python3",
      "display_name": "Python 3"
    },
    "language_info": {
      "name": "python"
    }
  },
  "cells": [
    {
      "cell_type": "code",
      "source": [
        "import pandas as pd\n",
        "import numpy as np"
      ],
      "metadata": {
        "id": "e1Nrxzjy_tSZ"
      },
      "execution_count": null,
      "outputs": []
    },
    {
      "cell_type": "code",
      "source": [
        "from google.colab import drive\n",
        "drive.mount('/content/drive')"
      ],
      "metadata": {
        "colab": {
          "base_uri": "https://localhost:8080/"
        },
        "id": "3w_wn4PnW3F5",
        "outputId": "3adaf4b1-0d42-4cd7-8465-ac8c4e251b67"
      },
      "execution_count": null,
      "outputs": [
        {
          "output_type": "stream",
          "name": "stdout",
          "text": [
            "Mounted at /content/drive\n"
          ]
        }
      ]
    },
    {
      "cell_type": "code",
      "source": [
        "data = pd.read_excel(\"/content/drive/MyDrive/MLB Research Project Part 2(AutoRecovered) (version 1).xlsx\", sheet_name = 'TB')"
      ],
      "metadata": {
        "id": "wXVz7i_VZdA4"
      },
      "execution_count": null,
      "outputs": []
    },
    {
      "cell_type": "code",
      "source": [
        "data.head(5)"
      ],
      "metadata": {
        "id": "Q1RKlizfZfjy",
        "colab": {
          "base_uri": "https://localhost:8080/",
          "height": 372
        },
        "outputId": "655d77cc-fe39-4211-ea39-f3764d2d4cba"
      },
      "execution_count": null,
      "outputs": [
        {
          "output_type": "execute_result",
          "data": {
            "text/plain": [
              "   Year               GM  Rnd  OvPck  RdPck          Tm Signed  \\\n",
              "0  1996      Chuck Lamar    1     29     29        Rays      Y   \n",
              "1  2006  Andrew Friedman    1      3      3  Devil Rays      Y   \n",
              "2  2007  Andrew Friedman    1      1      1  Devil Rays      Y   \n",
              "3  1999      Chuck Lamar    2     52      1  Devil Rays      Y   \n",
              "4  2002      Chuck Lamar   23    674      2  Devil Rays      N   \n",
              "\n",
              "                       Name Pos   WAR  Avg. WAR  MLB Type  \\\n",
              "0      Paul Wilder (minors)  OF   NaN       NaN   NO   HS   \n",
              "1    Evan Longoria (minors)  3B  57.6       5.0  YES  4Yr   \n",
              "2      David Price (minors)   P  40.4       3.9  YES  4Yr   \n",
              "3    Carl Crawford (minors)  OF  39.1       3.7  YES   HS   \n",
              "4  Jacoby Ellsbury (minors)  OF  31.2       4.1  YES   HS   \n",
              "\n",
              "                                     School         City State  \n",
              "0                                  Cary HS        Albion    NY  \n",
              "1  California State University, Long Beach        Laredo    TX  \n",
              "2                    Vanderbilt University         Macon    GA  \n",
              "3                       Jefferson Davis HS         Miami    FL  \n",
              "4                                Madras HS   New Orleans    LA  "
            ],
            "text/html": [
              "\n",
              "  <div id=\"df-aee082b7-4301-430b-a056-3180548b4218\">\n",
              "    <div class=\"colab-df-container\">\n",
              "      <div>\n",
              "<style scoped>\n",
              "    .dataframe tbody tr th:only-of-type {\n",
              "        vertical-align: middle;\n",
              "    }\n",
              "\n",
              "    .dataframe tbody tr th {\n",
              "        vertical-align: top;\n",
              "    }\n",
              "\n",
              "    .dataframe thead th {\n",
              "        text-align: right;\n",
              "    }\n",
              "</style>\n",
              "<table border=\"1\" class=\"dataframe\">\n",
              "  <thead>\n",
              "    <tr style=\"text-align: right;\">\n",
              "      <th></th>\n",
              "      <th>Year</th>\n",
              "      <th>GM</th>\n",
              "      <th>Rnd</th>\n",
              "      <th>OvPck</th>\n",
              "      <th>RdPck</th>\n",
              "      <th>Tm</th>\n",
              "      <th>Signed</th>\n",
              "      <th>Name</th>\n",
              "      <th>Pos</th>\n",
              "      <th>WAR</th>\n",
              "      <th>Avg. WAR</th>\n",
              "      <th>MLB</th>\n",
              "      <th>Type</th>\n",
              "      <th>School</th>\n",
              "      <th>City</th>\n",
              "      <th>State</th>\n",
              "    </tr>\n",
              "  </thead>\n",
              "  <tbody>\n",
              "    <tr>\n",
              "      <th>0</th>\n",
              "      <td>1996</td>\n",
              "      <td>Chuck Lamar</td>\n",
              "      <td>1</td>\n",
              "      <td>29</td>\n",
              "      <td>29</td>\n",
              "      <td>Rays</td>\n",
              "      <td>Y</td>\n",
              "      <td>Paul Wilder (minors)</td>\n",
              "      <td>OF</td>\n",
              "      <td>NaN</td>\n",
              "      <td>NaN</td>\n",
              "      <td>NO</td>\n",
              "      <td>HS</td>\n",
              "      <td>Cary HS</td>\n",
              "      <td>Albion</td>\n",
              "      <td>NY</td>\n",
              "    </tr>\n",
              "    <tr>\n",
              "      <th>1</th>\n",
              "      <td>2006</td>\n",
              "      <td>Andrew Friedman</td>\n",
              "      <td>1</td>\n",
              "      <td>3</td>\n",
              "      <td>3</td>\n",
              "      <td>Devil Rays</td>\n",
              "      <td>Y</td>\n",
              "      <td>Evan Longoria (minors)</td>\n",
              "      <td>3B</td>\n",
              "      <td>57.6</td>\n",
              "      <td>5.0</td>\n",
              "      <td>YES</td>\n",
              "      <td>4Yr</td>\n",
              "      <td>California State University, Long Beach</td>\n",
              "      <td>Laredo</td>\n",
              "      <td>TX</td>\n",
              "    </tr>\n",
              "    <tr>\n",
              "      <th>2</th>\n",
              "      <td>2007</td>\n",
              "      <td>Andrew Friedman</td>\n",
              "      <td>1</td>\n",
              "      <td>1</td>\n",
              "      <td>1</td>\n",
              "      <td>Devil Rays</td>\n",
              "      <td>Y</td>\n",
              "      <td>David Price (minors)</td>\n",
              "      <td>P</td>\n",
              "      <td>40.4</td>\n",
              "      <td>3.9</td>\n",
              "      <td>YES</td>\n",
              "      <td>4Yr</td>\n",
              "      <td>Vanderbilt University</td>\n",
              "      <td>Macon</td>\n",
              "      <td>GA</td>\n",
              "    </tr>\n",
              "    <tr>\n",
              "      <th>3</th>\n",
              "      <td>1999</td>\n",
              "      <td>Chuck Lamar</td>\n",
              "      <td>2</td>\n",
              "      <td>52</td>\n",
              "      <td>1</td>\n",
              "      <td>Devil Rays</td>\n",
              "      <td>Y</td>\n",
              "      <td>Carl Crawford (minors)</td>\n",
              "      <td>OF</td>\n",
              "      <td>39.1</td>\n",
              "      <td>3.7</td>\n",
              "      <td>YES</td>\n",
              "      <td>HS</td>\n",
              "      <td>Jefferson Davis HS</td>\n",
              "      <td>Miami</td>\n",
              "      <td>FL</td>\n",
              "    </tr>\n",
              "    <tr>\n",
              "      <th>4</th>\n",
              "      <td>2002</td>\n",
              "      <td>Chuck Lamar</td>\n",
              "      <td>23</td>\n",
              "      <td>674</td>\n",
              "      <td>2</td>\n",
              "      <td>Devil Rays</td>\n",
              "      <td>N</td>\n",
              "      <td>Jacoby Ellsbury (minors)</td>\n",
              "      <td>OF</td>\n",
              "      <td>31.2</td>\n",
              "      <td>4.1</td>\n",
              "      <td>YES</td>\n",
              "      <td>HS</td>\n",
              "      <td>Madras HS</td>\n",
              "      <td>New Orleans</td>\n",
              "      <td>LA</td>\n",
              "    </tr>\n",
              "  </tbody>\n",
              "</table>\n",
              "</div>\n",
              "      <button class=\"colab-df-convert\" onclick=\"convertToInteractive('df-aee082b7-4301-430b-a056-3180548b4218')\"\n",
              "              title=\"Convert this dataframe to an interactive table.\"\n",
              "              style=\"display:none;\">\n",
              "        \n",
              "  <svg xmlns=\"http://www.w3.org/2000/svg\" height=\"24px\"viewBox=\"0 0 24 24\"\n",
              "       width=\"24px\">\n",
              "    <path d=\"M0 0h24v24H0V0z\" fill=\"none\"/>\n",
              "    <path d=\"M18.56 5.44l.94 2.06.94-2.06 2.06-.94-2.06-.94-.94-2.06-.94 2.06-2.06.94zm-11 1L8.5 8.5l.94-2.06 2.06-.94-2.06-.94L8.5 2.5l-.94 2.06-2.06.94zm10 10l.94 2.06.94-2.06 2.06-.94-2.06-.94-.94-2.06-.94 2.06-2.06.94z\"/><path d=\"M17.41 7.96l-1.37-1.37c-.4-.4-.92-.59-1.43-.59-.52 0-1.04.2-1.43.59L10.3 9.45l-7.72 7.72c-.78.78-.78 2.05 0 2.83L4 21.41c.39.39.9.59 1.41.59.51 0 1.02-.2 1.41-.59l7.78-7.78 2.81-2.81c.8-.78.8-2.07 0-2.86zM5.41 20L4 18.59l7.72-7.72 1.47 1.35L5.41 20z\"/>\n",
              "  </svg>\n",
              "      </button>\n",
              "      \n",
              "  <style>\n",
              "    .colab-df-container {\n",
              "      display:flex;\n",
              "      flex-wrap:wrap;\n",
              "      gap: 12px;\n",
              "    }\n",
              "\n",
              "    .colab-df-convert {\n",
              "      background-color: #E8F0FE;\n",
              "      border: none;\n",
              "      border-radius: 50%;\n",
              "      cursor: pointer;\n",
              "      display: none;\n",
              "      fill: #1967D2;\n",
              "      height: 32px;\n",
              "      padding: 0 0 0 0;\n",
              "      width: 32px;\n",
              "    }\n",
              "\n",
              "    .colab-df-convert:hover {\n",
              "      background-color: #E2EBFA;\n",
              "      box-shadow: 0px 1px 2px rgba(60, 64, 67, 0.3), 0px 1px 3px 1px rgba(60, 64, 67, 0.15);\n",
              "      fill: #174EA6;\n",
              "    }\n",
              "\n",
              "    [theme=dark] .colab-df-convert {\n",
              "      background-color: #3B4455;\n",
              "      fill: #D2E3FC;\n",
              "    }\n",
              "\n",
              "    [theme=dark] .colab-df-convert:hover {\n",
              "      background-color: #434B5C;\n",
              "      box-shadow: 0px 1px 3px 1px rgba(0, 0, 0, 0.15);\n",
              "      filter: drop-shadow(0px 1px 2px rgba(0, 0, 0, 0.3));\n",
              "      fill: #FFFFFF;\n",
              "    }\n",
              "  </style>\n",
              "\n",
              "      <script>\n",
              "        const buttonEl =\n",
              "          document.querySelector('#df-aee082b7-4301-430b-a056-3180548b4218 button.colab-df-convert');\n",
              "        buttonEl.style.display =\n",
              "          google.colab.kernel.accessAllowed ? 'block' : 'none';\n",
              "\n",
              "        async function convertToInteractive(key) {\n",
              "          const element = document.querySelector('#df-aee082b7-4301-430b-a056-3180548b4218');\n",
              "          const dataTable =\n",
              "            await google.colab.kernel.invokeFunction('convertToInteractive',\n",
              "                                                     [key], {});\n",
              "          if (!dataTable) return;\n",
              "\n",
              "          const docLinkHtml = 'Like what you see? Visit the ' +\n",
              "            '<a target=\"_blank\" href=https://colab.research.google.com/notebooks/data_table.ipynb>data table notebook</a>'\n",
              "            + ' to learn more about interactive tables.';\n",
              "          element.innerHTML = '';\n",
              "          dataTable['output_type'] = 'display_data';\n",
              "          await google.colab.output.renderOutput(dataTable, element);\n",
              "          const docLink = document.createElement('div');\n",
              "          docLink.innerHTML = docLinkHtml;\n",
              "          element.appendChild(docLink);\n",
              "        }\n",
              "      </script>\n",
              "    </div>\n",
              "  </div>\n",
              "  "
            ]
          },
          "metadata": {},
          "execution_count": 5
        }
      ]
    },
    {
      "cell_type": "code",
      "source": [
        "len(data)"
      ],
      "metadata": {
        "id": "h8nq7X4bu7Cu",
        "colab": {
          "base_uri": "https://localhost:8080/"
        },
        "outputId": "3b28bc4b-5a0e-4433-f516-ca50d26c859d"
      },
      "execution_count": null,
      "outputs": [
        {
          "output_type": "execute_result",
          "data": {
            "text/plain": [
              "1223"
            ]
          },
          "metadata": {},
          "execution_count": 6
        }
      ]
    },
    {
      "cell_type": "code",
      "source": [
        "data['GM'].unique()"
      ],
      "metadata": {
        "colab": {
          "base_uri": "https://localhost:8080/"
        },
        "id": "vf5q-mjUZiml",
        "outputId": "cbbcf72e-fe71-42f3-95ac-5dff65c6d5d9"
      },
      "execution_count": null,
      "outputs": [
        {
          "output_type": "execute_result",
          "data": {
            "text/plain": [
              "array(['Chuck Lamar', 'Andrew Friedman', 'Matt Silverman', 'Erik Neander'],\n",
              "      dtype=object)"
            ]
          },
          "metadata": {},
          "execution_count": 7
        }
      ]
    },
    {
      "cell_type": "code",
      "source": [
        "def MLB_Count(df, condition):\n",
        "  result = {}\n",
        "  keys = df[condition].unique()\n",
        "  for key in keys:\n",
        "    value = len(df[df[condition]== key])\n",
        "    result[key] = value\n",
        "  return result"
      ],
      "metadata": {
        "id": "-QrwdCoCZoFZ"
      },
      "execution_count": null,
      "outputs": []
    },
    {
      "cell_type": "code",
      "source": [
        "a =MLB_Count(data, 'Pos')\n",
        "a"
      ],
      "metadata": {
        "colab": {
          "base_uri": "https://localhost:8080/"
        },
        "id": "qG5dp8PpbXXx",
        "outputId": "a32322cf-a69f-4c52-f18b-a834f988fe2b"
      },
      "execution_count": null,
      "outputs": [
        {
          "output_type": "execute_result",
          "data": {
            "text/plain": [
              "{'OF': 186, '3B': 45, 'P': 670, 'SS': 92, '2B': 56, 'C': 105, '1B': 68, 'c': 1}"
            ]
          },
          "metadata": {},
          "execution_count": 9
        }
      ]
    },
    {
      "cell_type": "code",
      "source": [
        "df = data[data['MLB'] == 'YES']\n",
        "MLB_Count(df, 'Pos')"
      ],
      "metadata": {
        "colab": {
          "base_uri": "https://localhost:8080/"
        },
        "id": "lnOqsv5caXoF",
        "outputId": "b78a461f-fcb7-4293-8622-736cee939492"
      },
      "execution_count": null,
      "outputs": [
        {
          "output_type": "execute_result",
          "data": {
            "text/plain": [
              "{'3B': 8, 'P': 99, 'OF': 28, 'SS': 16, 'C': 17, '2B': 7, '1B': 5}"
            ]
          },
          "metadata": {},
          "execution_count": 10
        }
      ]
    },
    {
      "cell_type": "code",
      "source": [
        "df = data[data['MLB'] == 'YES'][data['Rnd'] <= 10][data['Rnd'] >= 1]\n",
        "MLB_Count(df, 'Pos')"
      ],
      "metadata": {
        "colab": {
          "base_uri": "https://localhost:8080/"
        },
        "id": "rjNHMCr-XL1v",
        "outputId": "5c3d5b4f-690d-4e6b-85db-aac02c6820d6"
      },
      "execution_count": null,
      "outputs": [
        {
          "output_type": "stream",
          "name": "stderr",
          "text": [
            "/usr/local/lib/python3.7/dist-packages/ipykernel_launcher.py:1: UserWarning: Boolean Series key will be reindexed to match DataFrame index.\n",
            "  \"\"\"Entry point for launching an IPython kernel.\n"
          ]
        },
        {
          "output_type": "execute_result",
          "data": {
            "text/plain": [
              "{'3B': 7, 'P': 44, 'OF': 17, 'SS': 9, '2B': 4, 'C': 5, '1B': 2}"
            ]
          },
          "metadata": {},
          "execution_count": 11
        }
      ]
    },
    {
      "cell_type": "code",
      "source": [
        "df = data[data['Rnd'] <= 10][data['Rnd'] >= 1]\n",
        "MLB_Count(df, 'Pos')"
      ],
      "metadata": {
        "colab": {
          "base_uri": "https://localhost:8080/"
        },
        "id": "1XcB-1d_XkP7",
        "outputId": "1d17df2d-a4bd-416b-e4d9-3bbc4c1399cb"
      },
      "execution_count": null,
      "outputs": [
        {
          "output_type": "stream",
          "name": "stderr",
          "text": [
            "/usr/local/lib/python3.7/dist-packages/ipykernel_launcher.py:1: UserWarning: Boolean Series key will be reindexed to match DataFrame index.\n",
            "  \"\"\"Entry point for launching an IPython kernel.\n"
          ]
        },
        {
          "output_type": "execute_result",
          "data": {
            "text/plain": [
              "{'1B': 15, '2B': 6, '3B': 16, 'C': 28, 'OF': 62, 'P': 150, 'SS': 30}"
            ]
          },
          "metadata": {},
          "execution_count": 21
        }
      ]
    },
    {
      "cell_type": "code",
      "source": [
        "df = data[data['MLB'] == 'YES'][data['Rnd'] <= 10][data['Rnd'] >= 1][data['WAR'] >= 2]\n",
        "MLB_Count(df, 'Pos')"
      ],
      "metadata": {
        "colab": {
          "base_uri": "https://localhost:8080/"
        },
        "id": "tn2eLhUzYKNP",
        "outputId": "8564ab0d-fa95-42b7-964b-58a556060ff9"
      },
      "execution_count": null,
      "outputs": [
        {
          "output_type": "stream",
          "name": "stderr",
          "text": [
            "/usr/local/lib/python3.7/dist-packages/ipykernel_launcher.py:1: UserWarning: Boolean Series key will be reindexed to match DataFrame index.\n",
            "  \"\"\"Entry point for launching an IPython kernel.\n"
          ]
        },
        {
          "output_type": "execute_result",
          "data": {
            "text/plain": [
              "{'1B': 3, '2B': 1, 'C': 4, 'OF': 4, 'P': 15, 'SS': 2}"
            ]
          },
          "metadata": {},
          "execution_count": 22
        }
      ]
    },
    {
      "cell_type": "code",
      "source": [
        "df = data[data['MLB'] == 'YES'][data['Rnd'] <= 30][data['Rnd'] >= 11]\n",
        "MLB_Count(df, 'Pos')"
      ],
      "metadata": {
        "colab": {
          "base_uri": "https://localhost:8080/"
        },
        "id": "nknUacaXYTum",
        "outputId": "d9c5dafa-db51-4c62-c129-ed7fadcfd230"
      },
      "execution_count": null,
      "outputs": [
        {
          "output_type": "stream",
          "name": "stderr",
          "text": [
            "/usr/local/lib/python3.7/dist-packages/ipykernel_launcher.py:1: UserWarning: Boolean Series key will be reindexed to match DataFrame index.\n",
            "  \"\"\"Entry point for launching an IPython kernel.\n"
          ]
        },
        {
          "output_type": "execute_result",
          "data": {
            "text/plain": [
              "{'1B': 2, '2B': 2, 'OF': 3, 'P': 37, 'SS': 3}"
            ]
          },
          "metadata": {},
          "execution_count": 23
        }
      ]
    },
    {
      "cell_type": "code",
      "source": [
        "df = data[data['Rnd'] <= 30][data['Rnd'] >= 11]\n",
        "MLB_Count(df, 'Pos')"
      ],
      "metadata": {
        "colab": {
          "base_uri": "https://localhost:8080/"
        },
        "id": "NiYVXcG0YY1k",
        "outputId": "6928f129-6d55-41bd-a0da-fb068c6732c1"
      },
      "execution_count": null,
      "outputs": [
        {
          "output_type": "stream",
          "name": "stderr",
          "text": [
            "/usr/local/lib/python3.7/dist-packages/ipykernel_launcher.py:1: UserWarning: Boolean Series key will be reindexed to match DataFrame index.\n",
            "  \"\"\"Entry point for launching an IPython kernel.\n"
          ]
        },
        {
          "output_type": "execute_result",
          "data": {
            "text/plain": [
              "{'1B': 21, '2B': 24, '3B': 20, 'C': 48, 'OF': 74, 'P': 316, 'SS': 58}"
            ]
          },
          "metadata": {},
          "execution_count": 24
        }
      ]
    },
    {
      "cell_type": "code",
      "source": [
        "df = data[data['MLB'] == 'YES'][data['Rnd'] <= 30][data['Rnd'] >= 11][data['WAR'] >= 2]\n",
        "MLB_Count(df, 'Pos')"
      ],
      "metadata": {
        "colab": {
          "base_uri": "https://localhost:8080/"
        },
        "id": "FpP7gDfaYbaA",
        "outputId": "5879a4da-6f38-42cf-bd06-c6f090f3e533"
      },
      "execution_count": null,
      "outputs": [
        {
          "output_type": "stream",
          "name": "stderr",
          "text": [
            "/usr/local/lib/python3.7/dist-packages/ipykernel_launcher.py:1: UserWarning: Boolean Series key will be reindexed to match DataFrame index.\n",
            "  \"\"\"Entry point for launching an IPython kernel.\n"
          ]
        },
        {
          "output_type": "execute_result",
          "data": {
            "text/plain": [
              "{'1B': 1, 'OF': 1, 'P': 5, 'SS': 1}"
            ]
          },
          "metadata": {},
          "execution_count": 25
        }
      ]
    },
    {
      "cell_type": "code",
      "source": [
        "df = data[data['MLB'] == 'YES'][data['Rnd'] <= 100][data['Rnd'] >= 31]\n",
        "MLB_Count(df, 'Pos')"
      ],
      "metadata": {
        "colab": {
          "base_uri": "https://localhost:8080/"
        },
        "id": "v_HgHeRKYhzJ",
        "outputId": "81328abd-1087-4412-a5e4-6b678bf47ecb"
      },
      "execution_count": null,
      "outputs": [
        {
          "output_type": "stream",
          "name": "stderr",
          "text": [
            "/usr/local/lib/python3.7/dist-packages/ipykernel_launcher.py:1: UserWarning: Boolean Series key will be reindexed to match DataFrame index.\n",
            "  \"\"\"Entry point for launching an IPython kernel.\n"
          ]
        },
        {
          "output_type": "execute_result",
          "data": {
            "text/plain": [
              "{'1B': 1, '3B': 1, 'C': 4, 'OF': 4, 'P': 21, 'SS': 2}"
            ]
          },
          "metadata": {},
          "execution_count": 17
        }
      ]
    },
    {
      "cell_type": "code",
      "source": [
        "df = data[data['Rnd'] <= 100][data['Rnd'] >= 31]\n",
        "MLB_Count(df, 'Pos')"
      ],
      "metadata": {
        "colab": {
          "base_uri": "https://localhost:8080/"
        },
        "id": "5qRcISk7YmKx",
        "outputId": "6ec6617e-200f-4c58-a3a5-bc6393335953"
      },
      "execution_count": null,
      "outputs": [
        {
          "output_type": "execute_result",
          "data": {
            "text/plain": [
              "{'1B': 30, '2B': 17, '3B': 28, 'C': 88, 'OF': 137, 'P': 317, 'SS': 71}"
            ]
          },
          "metadata": {},
          "execution_count": 18
        }
      ]
    },
    {
      "cell_type": "code",
      "source": [
        "df = data[data['MLB'] == 'YES'][data['Rnd'] <= 100][data['Rnd'] >= 31][data['WAR'] >= 2]\n",
        "MLB_Count(df, 'Pos')"
      ],
      "metadata": {
        "colab": {
          "base_uri": "https://localhost:8080/"
        },
        "id": "mYJp9JVmYpLo",
        "outputId": "cb884b44-147a-4701-f2cd-96bd2c01f400"
      },
      "execution_count": null,
      "outputs": [
        {
          "output_type": "stream",
          "name": "stderr",
          "text": [
            "/usr/local/lib/python3.7/dist-packages/ipykernel_launcher.py:1: UserWarning: Boolean Series key will be reindexed to match DataFrame index.\n",
            "  \"\"\"Entry point for launching an IPython kernel.\n"
          ]
        },
        {
          "output_type": "execute_result",
          "data": {
            "text/plain": [
              "{'1B': 1, '3B': 1, 'C': 1, 'OF': 3, 'P': 2, 'SS': 1}"
            ]
          },
          "metadata": {},
          "execution_count": 19
        }
      ]
    },
    {
      "cell_type": "code",
      "source": [
        "data[data['Pos'] == 'OF']['WAR'].sum()"
      ],
      "metadata": {
        "colab": {
          "base_uri": "https://localhost:8080/"
        },
        "id": "itaqR-BJY7td",
        "outputId": "0a00da80-f103-4c25-c037-20b3d7573472"
      },
      "execution_count": null,
      "outputs": [
        {
          "output_type": "execute_result",
          "data": {
            "text/plain": [
              "272.3"
            ]
          },
          "metadata": {},
          "execution_count": 77
        }
      ]
    },
    {
      "cell_type": "code",
      "source": [
        "df = data[data['WAR'] >=6]\n",
        "MLB_Count(df, 'Pos')"
      ],
      "metadata": {
        "colab": {
          "base_uri": "https://localhost:8080/"
        },
        "id": "KGvhtWeOZFpA",
        "outputId": "7136b65d-d951-48dd-cc8b-3e55b3deed17"
      },
      "execution_count": null,
      "outputs": [
        {
          "output_type": "execute_result",
          "data": {
            "text/plain": [
              "{'1B': 2, '2B': 1, '3B': 8, 'C': 5, 'OF': 10, 'P': 29, 'SS': 14}"
            ]
          },
          "metadata": {},
          "execution_count": 21
        }
      ]
    },
    {
      "cell_type": "code",
      "source": [
        "df = data[data['WAR'] >=2]\n",
        "MLB_Count(df, 'Pos')"
      ],
      "metadata": {
        "colab": {
          "base_uri": "https://localhost:8080/"
        },
        "id": "TQ3uK7N8ZceT",
        "outputId": "4c285e77-52a6-4d0b-d469-e6bd5225d3cc"
      },
      "execution_count": null,
      "outputs": [
        {
          "output_type": "execute_result",
          "data": {
            "text/plain": [
              "{'1B': 3, '2B': 1, '3B': 11, 'C': 7, 'OF': 17, 'P': 54, 'SS': 19}"
            ]
          },
          "metadata": {},
          "execution_count": 22
        }
      ]
    },
    {
      "cell_type": "code",
      "source": [
        "df = data[data['WAR'] <2]\n",
        "MLB_Count(df, 'Pos')"
      ],
      "metadata": {
        "colab": {
          "base_uri": "https://localhost:8080/"
        },
        "id": "71MWbG2xZfki",
        "outputId": "266212c6-f3c0-4409-b18d-d8a3b35354d4"
      },
      "execution_count": null,
      "outputs": [
        {
          "output_type": "execute_result",
          "data": {
            "text/plain": [
              "{'1B': 8, '2B': 10, '3B': 7, 'C': 19, 'OF': 23, 'P': 119, 'SS': 13}"
            ]
          },
          "metadata": {},
          "execution_count": 23
        }
      ]
    },
    {
      "cell_type": "code",
      "source": [
        "data[data['Type'] == '4Yr'][data['Pos'] == 'OF']['School'].value_counts()"
      ],
      "metadata": {
        "id": "Od-f8JLxZlVp"
      },
      "execution_count": null,
      "outputs": []
    },
    {
      "cell_type": "code",
      "source": [
        "data[data['Type'] == '4Yr'][data['MLB'] == 'YES'][data['Pos'] == 'OF']['School'].value_counts()"
      ],
      "metadata": {
        "id": "Gc7lptLOaTTn"
      },
      "execution_count": null,
      "outputs": []
    },
    {
      "cell_type": "code",
      "source": [
        "data[data['Type'] == 'JC'][data['Pos'] == 'OF']['School'].value_counts()"
      ],
      "metadata": {
        "id": "PM2RcQ0gaZPw"
      },
      "execution_count": null,
      "outputs": []
    },
    {
      "cell_type": "code",
      "source": [
        "data[data['Type'] == 'JC'][data['MLB'] == 'YES'][data['Pos'] == 'OF']['School'].value_counts()"
      ],
      "metadata": {
        "id": "VOaESsc4aZrq"
      },
      "execution_count": null,
      "outputs": []
    },
    {
      "cell_type": "code",
      "source": [
        "data[data['Type'] == 'HS'][data['Pos'] == 'OF']['State'].value_counts()"
      ],
      "metadata": {
        "id": "YZQN2Gj8abWp"
      },
      "execution_count": null,
      "outputs": []
    },
    {
      "cell_type": "code",
      "source": [
        "data[data['Type'] == 'HS'][data['Pos'] == 'OF'][data['MLB'] == 'YES']['State'].value_counts()"
      ],
      "metadata": {
        "id": "T2LmaKJoac62",
        "colab": {
          "base_uri": "https://localhost:8080/"
        },
        "outputId": "a9aa630b-46ad-44d8-ed81-699fc86c77ec"
      },
      "execution_count": null,
      "outputs": [
        {
          "output_type": "stream",
          "name": "stderr",
          "text": [
            "/usr/local/lib/python3.7/dist-packages/ipykernel_launcher.py:1: UserWarning: Boolean Series key will be reindexed to match DataFrame index.\n",
            "  \"\"\"Entry point for launching an IPython kernel.\n"
          ]
        },
        {
          "output_type": "execute_result",
          "data": {
            "text/plain": [
              " CA    3\n",
              " GA    2\n",
              " AZ    2\n",
              " WA    2\n",
              " FL    1\n",
              " AL    1\n",
              " CO    1\n",
              " OH    1\n",
              "Name: State, dtype: int64"
            ]
          },
          "metadata": {},
          "execution_count": 84
        }
      ]
    },
    {
      "cell_type": "code",
      "source": [
        "df = data[data['Rnd'] == 1]\n",
        "b = MLB_Count(df,'Pos')\n",
        "b"
      ],
      "metadata": {
        "colab": {
          "base_uri": "https://localhost:8080/"
        },
        "id": "irF7fUV6sNdl",
        "outputId": "bbe364e4-27ac-4a80-e4f8-7a47b3df5977"
      },
      "execution_count": null,
      "outputs": [
        {
          "output_type": "execute_result",
          "data": {
            "text/plain": [
              "{'OF': 11, '3B': 4, 'P': 16, 'SS': 7, '2B': 2, 'C': 2, '1B': 2}"
            ]
          },
          "metadata": {},
          "execution_count": 12
        }
      ]
    },
    {
      "cell_type": "code",
      "source": [
        "def two_item_dict(dictionary):\n",
        "  sort_dict = sorted(dictionary.items(), key=lambda item: item[1], reverse = True)\n",
        "  out_dict = {sort_dict[0][0]: sort_dict[0][1]}\n",
        "  sum = 0\n",
        "  for item in sort_dict[1:]:\n",
        "    sum += item[1]\n",
        "  out_dict['H'] = sum\n",
        "  return out_dict"
      ],
      "metadata": {
        "id": "Tq89uwjIbfPW"
      },
      "execution_count": null,
      "outputs": []
    },
    {
      "cell_type": "code",
      "source": [
        "a =MLB_Count(data, 'Pos')\n",
        "a"
      ],
      "metadata": {
        "colab": {
          "base_uri": "https://localhost:8080/"
        },
        "id": "NQe3kLCGbhFn",
        "outputId": "99f1ba12-bc2e-4ae6-9072-0fa1af9cb471"
      },
      "execution_count": null,
      "outputs": [
        {
          "output_type": "execute_result",
          "data": {
            "text/plain": [
              "{'1B': 65, '2B': 45, '3B': 64, 'C': 132, 'OF': 255, 'P': 757, 'SS': 133}"
            ]
          },
          "metadata": {},
          "execution_count": 15
        }
      ]
    },
    {
      "cell_type": "code",
      "source": [
        "two_item_dict(b)"
      ],
      "metadata": {
        "id": "IuYjtEpFcLQE",
        "outputId": "bd960814-fde7-4449-d60c-ab9ae96924d2",
        "colab": {
          "base_uri": "https://localhost:8080/"
        }
      },
      "execution_count": null,
      "outputs": [
        {
          "output_type": "execute_result",
          "data": {
            "text/plain": [
              "{'H': 20, 'P': 19}"
            ]
          },
          "metadata": {},
          "execution_count": 21
        }
      ]
    }
  ]
}